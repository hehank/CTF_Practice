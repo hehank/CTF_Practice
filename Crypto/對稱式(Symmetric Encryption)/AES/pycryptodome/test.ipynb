{
 "cells": [
  {
   "cell_type": "markdown",
   "source": [
    "# Jupter Notebook Fast Key\r\n",
    "    * ESC => use command mode.\r\n",
    "    * Enter => use edit mode.\r\n",
    "    * Key \"Ctrl + Enter\" => runs the currently selected cell.\r\n",
    "    * Key \"Shift + Enter\" => runs the selected cell and inserts a new cell immediately below(focus moves to new cell).\r\n",
    "    * Key \"Alt + Enter\" => runs the selected cell and inserts a new cell immediately below(focus remains on current cell).\r\n",
    "    * command mode：\r\n",
    "        1. Key \"a\" => add a cell above.\r\n",
    "        2. Key \"b\" => add a cell below.\r\n",
    "        3. Key \"j\" => select down code cell.\r\n",
    "        4. Key \"k\" => select up code cell.\r\n",
    "        5. Key \"dd\" => deleting a code cell.\r\n",
    "        6. Key \"m\" => switches the cell type to markdown.\r\n",
    "        7. Key \"y\" => switches the cell type to code.\r\n",
    "        8. Key \"L\" => Enable or Disable line numbering within a code cell."
   ],
   "metadata": {}
  },
  {
   "cell_type": "code",
   "execution_count": 6,
   "source": [
    "print(\"何崇睿 4100E005\")"
   ],
   "outputs": [
    {
     "output_type": "stream",
     "name": "stdout",
     "text": [
      "何崇睿 4100E005\n"
     ]
    }
   ],
   "metadata": {}
  },
  {
   "cell_type": "code",
   "execution_count": 1,
   "source": [
    "from Crypto.Cipher import AES\r\n",
    "\r\n",
    "obj = AES.new(b'This is a key123', AES.MODE_CBC, b'This is an IV456')\r\n",
    "\r\n",
    "message = b\"flag(HappyCrypt)\"\r\n",
    "\r\n",
    "ciphertext = obj.encrypt(message)\r\n",
    "print(ciphertext)\r\n",
    "\r\n",
    "obj2 = AES.new(b'This is a key123', AES.MODE_CBC, b'This is an IV456')\r\n",
    "obj2.decrypt(ciphertext)"
   ],
   "outputs": [
    {
     "output_type": "stream",
     "name": "stdout",
     "text": [
      "b'J\\xae\\xd1J\\xbdS\\x8d\\x99\\xaf\\xc3N\\xba\\xde\\xeb>['\n"
     ]
    },
    {
     "output_type": "execute_result",
     "data": {
      "text/plain": [
       "b'flag(HappyCrypt)'"
      ]
     },
     "metadata": {},
     "execution_count": 1
    }
   ],
   "metadata": {}
  }
 ],
 "metadata": {
  "orig_nbformat": 4,
  "language_info": {
   "name": "python",
   "version": "3.9.7",
   "mimetype": "text/x-python",
   "codemirror_mode": {
    "name": "ipython",
    "version": 3
   },
   "pygments_lexer": "ipython3",
   "nbconvert_exporter": "python",
   "file_extension": ".py"
  },
  "kernelspec": {
   "name": "python3",
   "display_name": "Python 3.9.7 64-bit"
  },
  "interpreter": {
   "hash": "11483789383e96ef313fea995d371b2303064b50f369ca8f1dda7fdc70461c54"
  }
 },
 "nbformat": 4,
 "nbformat_minor": 2
}